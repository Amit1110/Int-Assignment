{
 "cells": [
  {
   "cell_type": "code",
   "execution_count": 1,
   "metadata": {},
   "outputs": [],
   "source": [
    "#Importing important libraries\n",
    "import pickle\n",
    "import numpy as np\n",
    "import matplotlib.pyplot as plt\n",
    "import csv\n",
    "%matplotlib inline"
   ]
  },
  {
   "cell_type": "code",
   "execution_count": 2,
   "metadata": {
    "collapsed": true
   },
   "outputs": [],
   "source": [
    "import csv"
   ]
  },
  {
   "cell_type": "code",
   "execution_count": null,
   "metadata": {
    "collapsed": true
   },
   "outputs": [],
   "source": [
    "#Importing Deep Learning libraries\n",
    "keras.layers import Flatten,Dropout\n",
    "import keras\n",
    "from keras.layers import Input, Conv2D, Dense, MaxPooling2D, BatchNormalization, Activation\n",
    "from keras.models import Model"
   ]
  },
  {
   "cell_type": "code",
   "execution_count": 6,
   "metadata": {},
   "outputs": [],
   "source": [
    "#Extracting training images and training labels\n",
    "with open('train_image.pkl','rb') as f:\n",
    "    train_data = pickle.load(f)"
   ]
  },
  {
   "cell_type": "code",
   "execution_count": 7,
   "metadata": {},
   "outputs": [],
   "source": [
    "with open('train_label.pkl','rb') as f:\n",
    "    train_label = pickle.load(f)"
   ]
  },
  {
   "cell_type": "code",
   "execution_count": 8,
   "metadata": {},
   "outputs": [
    {
     "name": "stdout",
     "output_type": "stream",
     "text": [
      "<class 'list'>\n",
      "8000\n",
      "<class 'list'>\n",
      "8000\n"
     ]
    }
   ],
   "source": [
    "#Displaying Information about the training dataset\n",
    "print(type(train_label))\n",
    "print(len(train_data))\n",
    "print(type(train_data))\n",
    "print(len(train_label))"
   ]
  },
  {
   "cell_type": "code",
   "execution_count": 9,
   "metadata": {},
   "outputs": [],
   "source": [
    "#Converting list data to numpy arrays that is required by Keras\n",
    "train_data = np.array(train_data)\n",
    "train_label = np.array(train_label)"
   ]
  },
  {
   "cell_type": "code",
   "execution_count": 10,
   "metadata": {
    "collapsed": true
   },
   "outputs": [],
   "source": [
    "#Reshaping data required for CNN Model\n",
    "train_data = np.reshape(train_data,(-1,28,28,1))"
   ]
  },
  {
   "cell_type": "code",
   "execution_count": 11,
   "metadata": {},
   "outputs": [
    {
     "data": {
      "text/plain": [
       "(8000, 28, 28, 1)"
      ]
     },
     "execution_count": 11,
     "metadata": {},
     "output_type": "execute_result"
    }
   ],
   "source": [
    "train_data.shape"
   ]
  },
  {
   "cell_type": "code",
   "execution_count": 12,
   "metadata": {},
   "outputs": [
    {
     "data": {
      "text/plain": [
       "array([0, 2, 3, 6])"
      ]
     },
     "execution_count": 12,
     "metadata": {},
     "output_type": "execute_result"
    }
   ],
   "source": [
    "#Determining number of classes in the dataset\n",
    "np.unique(train_label)"
   ]
  },
  {
   "cell_type": "markdown",
   "metadata": {
    "collapsed": true
   },
   "source": [
    "\n",
    "# Changing labels\n",
    "#### 6 -- 1"
   ]
  },
  {
   "cell_type": "code",
   "execution_count": 13,
   "metadata": {},
   "outputs": [
    {
     "name": "stdout",
     "output_type": "stream",
     "text": [
      "[0 1 2 3]\n"
     ]
    }
   ],
   "source": [
    "#Changing train label 6 to 1 for training\n",
    "train_label = np.where(train_label != 6, train_label, 1)\n",
    "print(np.unique(train_label))"
   ]
  },
  {
   "cell_type": "code",
   "execution_count": null,
   "metadata": {},
   "outputs": [],
   "source": [
    "#Converting to one-hot vectors for softmax activation\n",
    "y_label = keras.utils.to_categorical(train_label,4)"
   ]
  },
  {
   "cell_type": "code",
   "execution_count": 15,
   "metadata": {
    "collapsed": true
   },
   "outputs": [],
   "source": [
    "#Normalizing the data values between [0,1]\n",
    "train_data = train_data.astype('float32')\n",
    "train_data/=255"
   ]
  },
  {
   "cell_type": "code",
   "execution_count": 16,
   "metadata": {},
   "outputs": [
    {
     "name": "stdout",
     "output_type": "stream",
     "text": [
      "(28, 28)\n"
     ]
    }
   ],
   "source": [
    "#Viewing an image\n",
    "temp = train_data[5050][:][:]\n",
    "temp = np.reshape(temp,(28,28))\n",
    "print(temp.shape)"
   ]
  },
  {
   "cell_type": "code",
   "execution_count": 17,
   "metadata": {},
   "outputs": [
    {
     "data": {
      "text/plain": [
       "<matplotlib.image.AxesImage at 0x2509edb9ba8>"
      ]
     },
     "execution_count": 17,
     "metadata": {},
     "output_type": "execute_result"
    },
    {
     "data": {
      "image/png": "[encoded data removed]",
      "text/plain": [
       "<matplotlib.figure.Figure at 0x25098dcd160>"
      ]
     },
     "metadata": {},
     "output_type": "display_data"
    }
   ],
   "source": [
    "plt.imshow(temp)"
   ]
  },
  {
   "cell_type": "code",
   "execution_count": 18,
   "metadata": {},
   "outputs": [
    {
     "name": "stdout",
     "output_type": "stream",
     "text": [
      "(8000, 28, 28, 1)\n",
      "(6400, 28, 28, 1)\n",
      "(1200, 28, 28, 1)\n",
      "(400, 28, 28, 1)\n"
     ]
    }
   ],
   "source": [
    "#Since there is no validation and test data I divided into various sets for evaluation\n",
    "print(train_data.shape)\n",
    "X_train = np.concatenate((train_data[:1600], train_data[2000:3600],train_data[4000:5600],train_data[6000:7600]), axis=0)\n",
    "X_val = np.concatenate((train_data[1600:1900], train_data[3600:3900],train_data[5600:5900],train_data[7600:7900]), axis=0)\n",
    "X_test = np.concatenate((train_data[1900:2000], train_data[3900:4000],train_data[5900:6000],train_data[7900:8000]), axis=0)\n",
    "print(X_train.shape)\n",
    "print(X_val.shape)\n",
    "print(X_test.shape)"
   ]
  },
  {
   "cell_type": "code",
   "execution_count": null,
   "metadata": {
    "scrolled": true
   },
   "outputs": [],
   "source": [
    "print(y_label.shape)\n",
    "y_train = np.concatenate((y_label[:1600], y_label[2000:3600],y_label[4000:5600],y_label[6000:7600]), axis=0)\n",
    "y_val = np.concatenate((y_label[1600:1900], y_label[3600:3900],y_label[5600:5900],y_label[7600:7900]), axis=0)\n",
    "y_test = np.concatenate((y_label[1900:2000], y_label[3900:4000],y_label[5900:6000],y_label[7900:8000]), axis=0)\n",
    "print(y_train.shape)\n",
    "print(y_val.shape)\n",
    "print(y_test.shape)"
   ]
  },
  {
   "cell_type": "code",
   "execution_count": null,
   "metadata": {
    "collapsed": true
   },
   "outputs": [],
   "source": [
    "#Defining the Convolutional Network Model\n",
    "def CNN_Model(input_shape, num_classes):\n",
    "    X_input = Input(input_shape, dtype='float32')\n",
    "    X = Conv2D(16, kernel_size=(3,3),activation='relu',padding='same')(X_input)\n",
    "    X = Conv2D(32, kernel_size=(3,3),activation='relu', padding='same')(X)\n",
    "    X = MaxPooling2D((2,2))(X)\n",
    "    X = Conv2D(64, kernel_size=(3,3),activation='relu', padding='same')(X)\n",
    "    X = Conv2D(128, kernel_size=(3,3),activation='relu', padding='same')(X)\n",
    "    X = MaxPooling2D((2,2))(X)\n",
    "    X = Flatten()(X)\n",
    "    X = Dense(256,activation='relu')(X)\n",
    "    X = Dropout(0.5)(X)\n",
    "    X = Dense(num_classes,activation='softmax')(X)\n",
    "    model = Model(inputs= X_input, outputs = X, name='CNN')\n",
    "    return model"
   ]
  },
  {
   "cell_type": "markdown",
   "metadata": {},
   "source": [
    "### Information \n",
    "#### I have not trained the model locally, but using the colab notebook remotely on google\n",
    "#### Link - https://colab.research.google.com/drive/1DLRHZELht80PZiCnuYA4OzWuZAD22TuI"
   ]
  },
  {
   "cell_type": "code",
   "execution_count": null,
   "metadata": {
    "collapsed": true
   },
   "outputs": [],
   "source": [
    "#Instantiating the model\n",
    "cnn = CNN_Model((28,28,1),4)"
   ]
  },
  {
   "cell_type": "code",
   "execution_count": null,
   "metadata": {
    "collapsed": true
   },
   "outputs": [],
   "source": [
    "cnn.summary()"
   ]
  },
  {
   "cell_type": "code",
   "execution_count": null,
   "metadata": {
    "collapsed": true
   },
   "outputs": [],
   "source": [
    "#Defining callbacks\n",
    "callbacks = [\n",
    "    keras.callbacks.ModelCheckpoint('model.h5', verbose=1)\n",
    "]"
   ]
  },
  {
   "cell_type": "code",
   "execution_count": null,
   "metadata": {
    "collapsed": true
   },
   "outputs": [],
   "source": [
    "cnn.compile(optimizer='adam',loss='categorical_crossentropy',metrics=['accuracy'])"
   ]
  },
  {
   "cell_type": "code",
   "execution_count": null,
   "metadata": {
    "collapsed": true
   },
   "outputs": [],
   "source": [
    "#Training the model\n",
    "cnn.fit(X_train,y_train,epochs = 10, batch_size =32, validation_data=(X_val,y_val) ,callbacks=callbacks)"
   ]
  },
  {
   "cell_type": "code",
   "execution_count": null,
   "metadata": {
    "collapsed": true
   },
   "outputs": [],
   "source": [
    "#Evaluating our model on my defined test data\n",
    "cnn.evaluate(X_test,y_test,verbose=1)"
   ]
  },
  {
   "cell_type": "code",
   "execution_count": null,
   "metadata": {
    "collapsed": true
   },
   "outputs": [],
   "source": [
    "cnn.metrics_names"
   ]
  },
  {
   "cell_type": "code",
   "execution_count": null,
   "metadata": {
    "collapsed": true
   },
   "outputs": [],
   "source": [
    "with open('test_image.pkl','rb') as f:\n",
    "    test_data = pickle.load(f)"
   ]
  },
  {
   "cell_type": "code",
   "execution_count": null,
   "metadata": {
    "collapsed": true
   },
   "outputs": [],
   "source": [
    "#calculating predictions from model for the required test dataset\n",
    "predictions_prob = cnn.predict(test_data)"
   ]
  },
  {
   "cell_type": "code",
   "execution_count": null,
   "metadata": {
    "collapsed": true
   },
   "outputs": [],
   "source": [
    "print(predictions_prob)"
   ]
  },
  {
   "cell_type": "code",
   "execution_count": null,
   "metadata": {
    "collapsed": true
   },
   "outputs": [],
   "source": [
    "predictions = predictions_prob.argmax(axis=-1)"
   ]
  },
  {
   "cell_type": "markdown",
   "metadata": {},
   "source": [
    "\n",
    "# Changing labels back again\n",
    "#### 1 -- 6"
   ]
  },
  {
   "cell_type": "code",
   "execution_count": null,
   "metadata": {
    "collapsed": true
   },
   "outputs": [],
   "source": [
    "#Changing labels back again\n",
    "predictions = np.where(predictions != 1, predictions, 6)\n",
    "print(np.unique(predictions))"
   ]
  },
  {
   "cell_type": "code",
   "execution_count": null,
   "metadata": {
    "collapsed": true
   },
   "outputs": [],
   "source": [
    "#writing into the csv file\n",
    "with open('submission.csv', 'a') as csvFile:\n",
    "  writer = csv.writer(csvFile)\n",
    "  for i in range(predictions.shape[0]):\n",
    "    row = [i, predictions[i]]\n",
    "    writer.writerow(row)\n",
    "    "
   ]
  },
  {
   "cell_type": "code",
   "execution_count": null,
   "metadata": {
    "collapsed": true
   },
   "outputs": [],
   "source": [
    "csvFile.close()"
   ]
  }
 ],
 "metadata": {
  "kernelspec": {
   "display_name": "Python 3",
   "language": "python",
   "name": "python3"
  },
  "language_info": {
   "codemirror_mode": {
    "name": "ipython",
    "version": 3
   },
   "file_extension": ".py",
   "mimetype": "text/x-python",
   "name": "python",
   "nbconvert_exporter": "python",
   "pygments_lexer": "ipython3",
   "version": "3.6.7"
  }
 },
 "nbformat": 4,
 "nbformat_minor": 2
}
